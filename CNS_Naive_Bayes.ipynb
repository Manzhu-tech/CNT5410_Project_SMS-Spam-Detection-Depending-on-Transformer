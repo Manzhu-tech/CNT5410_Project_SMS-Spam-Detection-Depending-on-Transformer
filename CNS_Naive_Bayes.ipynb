{
  "nbformat": 4,
  "nbformat_minor": 0,
  "metadata": {
    "colab": {
      "name": "CNS_Naive Bayes.ipynb",
      "provenance": []
    },
    "kernelspec": {
      "name": "python3",
      "display_name": "Python 3"
    },
    "language_info": {
      "name": "python"
    }
  },
  "cells": [
    {
      "cell_type": "code",
      "metadata": {
        "colab": {
          "base_uri": "https://localhost:8080/",
          "height": 1000
        },
        "id": "C3-Z-E0OxQ5h",
        "outputId": "8f0145db-49f1-4a5a-b37c-d5c178abebe8"
      },
      "source": [
        "from sklearn import feature_extraction, model_selection, naive_bayes, metrics, svm\n",
        "from sklearn.model_selection import train_test_split\n",
        "from sklearn.metrics import accuracy_score, precision_score, recall_score, f1_score\n",
        "from sklearn.feature_extraction.text import CountVectorizer\n",
        "from sklearn.naive_bayes import MultinomialNB\n",
        "from sklearn.metrics import confusion_matrix,classification_report\n",
        "from sklearn.metrics import roc_curve, auc\n",
        "import numpy as np\n",
        "import pandas as pd\n",
        "import matplotlib.pyplot as plt\n",
        "import seaborn as sns\n",
        "import scipy as sp\n",
        "\n",
        "# reading the dataset\n",
        "spam_ham = pd.read_csv('/content/SMSSpamCollection',sep ='\\t',names=[\"label\", \"message\"])\n",
        "print(spam_ham.head())\n",
        "print(spam_ham.groupby('label').describe())\n",
        "\n",
        "#plotting the dataset based on category\n",
        "count_Class=pd.value_counts(spam_ham[\"label\"], sort= True)\n",
        "count_Class.plot(kind = 'bar',color = [\"green\",\"red\"])\n",
        "plt.title('Bar Plot')\n",
        "plt.show()\n",
        "\n",
        "spam_ham[\"label\"]=spam_ham[\"label\"].map({'spam':1,'ham':0})\n",
        "\n",
        "X=spam_ham.message\n",
        "y=spam_ham.label\n",
        "\n",
        "print(X.shape)\n",
        "print(y.shape)\n",
        "\n",
        "\n",
        "#splitting the dataset between train and test\n",
        "train_msg, test_msg, train_labels, test_labels = train_test_split(X, y, test_size=0.70, random_state=42)\n",
        "vector=CountVectorizer(stop_words='english')\n",
        "\n",
        "print(vector.fit(train_msg))\n",
        "\n",
        "# print(vector.vocabulary_)  uncomment this line to view the word count\n",
        "print(vector.get_feature_names)\n",
        "print(len(vector.get_feature_names()))\n",
        "\n",
        "train_msg_transfrom = vector.transform(train_msg)\n",
        "test_msg_transfrom = vector.transform(test_msg)\n",
        "\n",
        "\n",
        "#trained model\n",
        "print(type(train_msg_transfrom))\n",
        "print(train_msg_transfrom)\n",
        "\n",
        "\n",
        "# Multinomial Naive Bayes classifier\n",
        "NB_model= MultinomialNB()\n",
        "print(NB_model.fit(train_msg_transfrom,train_labels))\n",
        "predict = NB_model.predict(test_msg_transfrom)\n",
        "predict_prob=NB_model.predict_proba(test_msg_transfrom)\n",
        "\n",
        "\n",
        "# Report and confusion matrix\n",
        "print(confusion_matrix(test_labels,predict))\n",
        "sns.heatmap(confusion_matrix(test_labels,predict),annot=True)\n",
        "plt.show()\n",
        "\n",
        "print('Recall score: {}'.format(recall_score(test_labels, predict)))\n",
        "print('Accuracy score: {}'.format(accuracy_score(test_labels, predict)))\n",
        "print('F1 score: {}'.format(f1_score(test_labels, predict)))\n",
        "print('Precision score: {}'.format(precision_score(test_labels, predict)))\n",
        "\n",
        "print(classification_report(test_labels,predict))\n",
        "\n",
        "Rate_false_positive, rate_true_positive, thresholds = roc_curve(test_labels, predict_prob[:,1])\n",
        "roc_auc = auc(Rate_false_positive, rate_true_positive)\n",
        "\n",
        "plt.ylabel('True Positive Rate')\n",
        "plt.xlabel('False Positive Rate')\n",
        "plt.title('ROC')\n",
        "plt.plot(Rate_false_positive, rate_true_positive)\n",
        "plt.show()"
      ],
      "execution_count": null,
      "outputs": [
        {
          "output_type": "stream",
          "name": "stdout",
          "text": [
            "  label                                            message\n",
            "0   ham  Go until jurong point, crazy.. Available only ...\n",
            "1   ham                      Ok lar... Joking wif u oni...\n",
            "2  spam  Free entry in 2 a wkly comp to win FA Cup fina...\n",
            "3   ham  U dun say so early hor... U c already then say...\n",
            "4   ham  Nah I don't think he goes to usf, he lives aro...\n",
            "      message                                                               \n",
            "        count unique                                                top freq\n",
            "label                                                                       \n",
            "ham      4825   4516                             Sorry, I'll call later   30\n",
            "spam      747    653  Please call our customer service representativ...    4\n"
          ]
        },
        {
          "output_type": "display_data",
          "data": {
            "image/png": "[encoded data removed]",
            "text/plain": [
              "<Figure size 432x288 with 1 Axes>"
            ]
          },
          "metadata": {
            "needs_background": "light"
          }
        },
        {
          "output_type": "stream",
          "name": "stdout",
          "text": [
            "(5572,)\n",
            "(5572,)\n",
            "CountVectorizer(stop_words='english')\n",
            "<bound method CountVectorizer.get_feature_names of CountVectorizer(stop_words='english')>\n",
            "4251\n",
            "<class 'scipy.sparse.csr.csr_matrix'>\n",
            "  (0, 1246)\t1\n",
            "  (0, 1726)\t1\n",
            "  (0, 2896)\t1\n",
            "  (0, 3200)\t1\n",
            "  (0, 3556)\t1\n",
            "  (0, 3693)\t1\n",
            "  (0, 3739)\t1\n",
            "  (1, 1913)\t1\n",
            "  (1, 2838)\t1\n",
            "  (1, 3562)\t1\n",
            "  (2, 2710)\t1\n",
            "  (3, 1492)\t1\n",
            "  (3, 4169)\t1\n",
            "  (4, 705)\t1\n",
            "  (4, 1758)\t1\n",
            "  (4, 2292)\t1\n",
            "  (4, 3068)\t1\n",
            "  (4, 3346)\t1\n",
            "  (5, 23)\t1\n",
            "  (5, 24)\t1\n",
            "  (5, 197)\t1\n",
            "  (5, 211)\t1\n",
            "  (5, 1000)\t1\n",
            "  (5, 1606)\t1\n",
            "  (5, 1991)\t1\n",
            "  :\t:\n",
            "  (1666, 1371)\t1\n",
            "  (1666, 1742)\t1\n",
            "  (1666, 1861)\t1\n",
            "  (1666, 2269)\t1\n",
            "  (1666, 4151)\t1\n",
            "  (1666, 4158)\t1\n",
            "  (1667, 2203)\t1\n",
            "  (1667, 2287)\t1\n",
            "  (1667, 3466)\t1\n",
            "  (1668, 1624)\t1\n",
            "  (1668, 1838)\t1\n",
            "  (1668, 2947)\t1\n",
            "  (1668, 3075)\t1\n",
            "  (1668, 3469)\t1\n",
            "  (1668, 3470)\t1\n",
            "  (1669, 2090)\t1\n",
            "  (1669, 2673)\t1\n",
            "  (1669, 3298)\t1\n",
            "  (1669, 3800)\t1\n",
            "  (1670, 1245)\t1\n",
            "  (1670, 2107)\t1\n",
            "  (1670, 2592)\t1\n",
            "  (1670, 3240)\t1\n",
            "  (1670, 3451)\t1\n",
            "  (1670, 3667)\t1\n",
            "MultinomialNB()\n",
            "[[3348   31]\n",
            " [  30  492]]\n"
          ]
        },
        {
          "output_type": "stream",
          "name": "stderr",
          "text": [
            "/usr/local/lib/python3.7/dist-packages/sklearn/utils/deprecation.py:87: FutureWarning: Function get_feature_names is deprecated; get_feature_names is deprecated in 1.0 and will be removed in 1.2. Please use get_feature_names_out instead.\n",
            "  warnings.warn(msg, category=FutureWarning)\n"
          ]
        },
        {
          "output_type": "display_data",
          "data": {
            "image/png": "[encoded data removed]",
            "text/plain": [
              "<Figure size 432x288 with 2 Axes>"
            ]
          },
          "metadata": {
            "needs_background": "light"
          }
        },
        {
          "output_type": "stream",
          "name": "stdout",
          "text": [
            "Recall score: 0.9425287356321839\n",
            "Accuracy score: 0.9843629838502947\n",
            "F1 score: 0.941626794258373\n",
            "Precision score: 0.9407265774378585\n",
            "              precision    recall  f1-score   support\n",
            "\n",
            "           0       0.99      0.99      0.99      3379\n",
            "           1       0.94      0.94      0.94       522\n",
            "\n",
            "    accuracy                           0.98      3901\n",
            "   macro avg       0.97      0.97      0.97      3901\n",
            "weighted avg       0.98      0.98      0.98      3901\n",
            "\n"
          ]
        },
        {
          "output_type": "display_data",
          "data": {
            "image/png": "[encoded data removed]",
            "text/plain": [
              "<Figure size 432x288 with 1 Axes>"
            ]
          },
          "metadata": {
            "needs_background": "light"
          }
        }
      ]
    }
  ]
}